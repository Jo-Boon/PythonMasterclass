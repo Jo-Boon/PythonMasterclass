{
 "cells": [
  {
   "cell_type": "markdown",
   "metadata": {},
   "source": [
    "# Object-oriented programming\n",
    "\n",
    "One of the main strenghts of Python is that it supports object-oriented programming (OOP), although it is not unique in that sense: most codes are built around that concept these days. When writing complex programs, or when developing Python packages or libraries, an object-oriented approach is the way to go. An object has unique properties and behaviour. Its properties are defined through *attributes* and the *methods* of an object determine its behaviour. Once an object is defined, you can use it mulitple times in your program, which has the obvious advantage that you don't have to repeat the same code over and over again. By letting objects interact with each other, you define how your program works.\n",
    "\n",
    "When you are not used to this type of programming, OOP may seem like an abstract concept, and it is best explained by showing examples. But before we can do that, we have to talk about functions first."
   ]
  },
  {
   "cell_type": "markdown",
   "metadata": {},
   "source": [
    "## Functions\n",
    "\n",
    "A function is a block of code that performs a specific taks and is only executed when it is called from somewhere else inside your program. You typically create functions when certain tasks have to be executed several times. So as a general rule, when you're programming and you find that you are repeating the same lines of code twice or more, then it is time to think about bundling them into a function. This leaves less room for errors and it makes your code much easier to read and understand. Moreover, it is less work to change the function than it is to change the code in all the places where repetition occurs.\n",
    "\n",
    "The code block below demonstrates how a function is defined. The first line starts with `def`, which tells Python that you plan to define a function. After `def` comes the name of the function, followed by parentheses. In this example, the word `name` appears between parentheses, meaning that the function `describe_person` accepts an *argument*, which in this case is called `name`. Effectively, `name` is a variable that will be available inside (and only inside) the function. Note that the line with the function definition must end with a colon, and that all code that belongs to the function must be indented."
   ]
  },
  {
   "cell_type": "code",
   "execution_count": 2,
   "metadata": {},
   "outputs": [],
   "source": [
    "def describe_person(name):\n",
    "    if name == \"Vincent\":\n",
    "        print(\"Vincent is one of the instructors of the Python Masterclass\")\n",
    "    elif name == \"Anushree\":\n",
    "        print(\"Anushree is the AWS support person during the Python Masterclass\")\n",
    "    else:\n",
    "        print(\"Name is unknown, not sure what message to print for this person.\")"
   ]
  },
  {
   "cell_type": "markdown",
   "metadata": {},
   "source": [
    "The function contains a series of conditional statements that check the value of `name` and print a certain message to the screen depending on the name provided. Calling the function (this is programming terminology for executing the function) is done in the following way"
   ]
  },
  {
   "cell_type": "code",
   "execution_count": 3,
   "metadata": {},
   "outputs": [
    {
     "name": "stdout",
     "output_type": "stream",
     "text": [
      "Vincent is one of the instructors of the Python Masterclass\n"
     ]
    }
   ],
   "source": [
    "describe_person(\"Vincent\")"
   ]
  },
  {
   "cell_type": "markdown",
   "metadata": {},
   "source": [
    "It is not compulsory for a function to accept arguments, so the following function definition is fine as well"
   ]
  },
  {
   "cell_type": "code",
   "execution_count": 4,
   "metadata": {},
   "outputs": [],
   "source": [
    "def func_without_args():\n",
    "    print(\"This function does not accept arguments\")"
   ]
  },
  {
   "cell_type": "markdown",
   "metadata": {},
   "source": [
    "To execute the function it needs to be called like this"
   ]
  },
  {
   "cell_type": "code",
   "execution_count": 5,
   "metadata": {},
   "outputs": [
    {
     "name": "stdout",
     "output_type": "stream",
     "text": [
      "This function does not accept arguments\n"
     ]
    }
   ],
   "source": [
    "func_without_args()"
   ]
  },
  {
   "cell_type": "markdown",
   "metadata": {},
   "source": [
    "***Exercise 1***: In the code cell below, try what happens when you enter the function name without parentheses."
   ]
  },
  {
   "cell_type": "code",
   "execution_count": 6,
   "metadata": {},
   "outputs": [
    {
     "data": {
      "text/plain": [
       "<function __main__.func_without_args()>"
      ]
     },
     "execution_count": 6,
     "metadata": {},
     "output_type": "execute_result"
    }
   ],
   "source": [
    "func_without_args"
   ]
  },
  {
   "cell_type": "markdown",
   "metadata": {},
   "source": [
    "A function can also return a value. For example"
   ]
  },
  {
   "cell_type": "code",
   "execution_count": 7,
   "metadata": {},
   "outputs": [],
   "source": [
    "def describe_person(name):\n",
    "    if name == \"Vincent\":\n",
    "        rv = \"Vincent is one of the instructors of the Python Masterclass\"\n",
    "    elif name == \"Anushree\":\n",
    "        rv = \"Anushree is the AWS support person during the Python Masterclass\"\n",
    "    else:\n",
    "        rv = \"Name is unknown, not sure what message to print for this person.\"\n",
    "    \n",
    "    return rv"
   ]
  },
  {
   "cell_type": "markdown",
   "metadata": {},
   "source": [
    "Now it can be called in the following way"
   ]
  },
  {
   "cell_type": "code",
   "execution_count": 8,
   "metadata": {},
   "outputs": [
    {
     "name": "stdout",
     "output_type": "stream",
     "text": [
      "Anushree is the AWS support person during the Python Masterclass\n"
     ]
    }
   ],
   "source": [
    "msg = describe_person(\"Anushree\")\n",
    "print(msg)"
   ]
  },
  {
   "cell_type": "markdown",
   "metadata": {},
   "source": [
    "A function can have multiple arguments. It can also have optional arguments, which are called *keyword arguments* (or simply *kwargs*) in Python. A keyword argument is defined by specifying a default value within the function definition. In the example below `age` becomes a keyword argument because a default value of 23 years is assigned to it using the equal sign."
   ]
  },
  {
   "cell_type": "code",
   "execution_count": 9,
   "metadata": {},
   "outputs": [],
   "source": [
    "def describe_person(name, age=23):    \n",
    "    return f\"{name} is {age} years old.\""
   ]
  },
  {
   "cell_type": "markdown",
   "metadata": {},
   "source": [
    "The function can now be called like this"
   ]
  },
  {
   "cell_type": "code",
   "execution_count": 10,
   "metadata": {},
   "outputs": [
    {
     "name": "stdout",
     "output_type": "stream",
     "text": [
      "Vincent is 29 years old.\n"
     ]
    }
   ],
   "source": [
    "msg = describe_person(\"Vincent\", 29)\n",
    "print(msg)"
   ]
  },
  {
   "cell_type": "markdown",
   "metadata": {},
   "source": [
    "Or like this"
   ]
  },
  {
   "cell_type": "code",
   "execution_count": 11,
   "metadata": {},
   "outputs": [
    {
     "name": "stdout",
     "output_type": "stream",
     "text": [
      "Anushree is 23 years old.\n"
     ]
    }
   ],
   "source": [
    "msg = describe_person(\"Anushree\")\n",
    "print(msg)"
   ]
  },
  {
   "cell_type": "markdown",
   "metadata": {},
   "source": [
    "Note that keyword arguments must always come after non-keyword arguments, otherwise Python will throw an error."
   ]
  },
  {
   "cell_type": "markdown",
   "metadata": {},
   "source": [
    "## Docstrings\n",
    "It is common practice to document the behaviour of a function using a so-called *docstring*. First of all, a docstring should describe what the function's purpose is. Then it provides information about the arguments (or parameters) that must/can be passed to the function, and the value that the function returns."
   ]
  },
  {
   "cell_type": "code",
   "execution_count": 12,
   "metadata": {},
   "outputs": [],
   "source": [
    "def describe_person(name, age=23):\n",
    "    \"\"\"\n",
    "    This function returns a message with a persons name and age.\n",
    "    \n",
    "    Parameters\n",
    "    ----------\n",
    "    name : str\n",
    "        A string with the name of the person.\n",
    "    age : int, optional\n",
    "        An integer with the person's age in years. Default: 23.\n",
    "        \n",
    "    Returns\n",
    "    -------\n",
    "    result : str\n",
    "        A string containing the message.\n",
    "    \"\"\"\n",
    "    return f\"{name} is {age} years old.\""
   ]
  },
  {
   "cell_type": "markdown",
   "metadata": {},
   "source": [
    "Suddenly our code got a lot longer and the time involved in creating good docstrings should not be underestimated. But they are an essential part of good coding practice because they allow others to understand what the function does. This includes the users of your program, other developers and yourself when you return to a piece of code several years after you last worked on it.\n",
    "\n",
    "The style used in the code cell above follows the convections for the <A href=\"https://numpydoc.readthedocs.io/en/latest/format.html\">numpydoc extension for Sphinx</A>. Sphinx is a tool that creates the documentation of your code project partially based on the docstrings you have provided, so writing good docstrings can save you lots of time later on when you want to share your code with others.\n",
    "\n",
    "The docstring also serves to provide interactive help about a function within an IDE, or a notebook environment. For example, we can now get help on our function by typing"
   ]
  },
  {
   "cell_type": "code",
   "execution_count": 13,
   "metadata": {},
   "outputs": [
    {
     "data": {
      "text/plain": [
       "\u001b[1;31mSignature:\u001b[0m \u001b[0mdescribe_person\u001b[0m\u001b[1;33m(\u001b[0m\u001b[0mname\u001b[0m\u001b[1;33m,\u001b[0m \u001b[0mage\u001b[0m\u001b[1;33m=\u001b[0m\u001b[1;36m23\u001b[0m\u001b[1;33m)\u001b[0m\u001b[1;33m\u001b[0m\u001b[1;33m\u001b[0m\u001b[0m\n",
       "\u001b[1;31mDocstring:\u001b[0m\n",
       "This function returns a message with a persons name and age.\n",
       "\n",
       "Parameters\n",
       "----------\n",
       "name : str\n",
       "    A string with the name of the person.\n",
       "age : int, optional\n",
       "    An integer with the person's age in years. Default: 23.\n",
       "    \n",
       "Returns\n",
       "-------\n",
       "result : str\n",
       "    A string containing the message.\n",
       "\u001b[1;31mFile:\u001b[0m      c:\\users\\vince\\appdata\\local\\temp\\ipykernel_17484\\381386399.py\n",
       "\u001b[1;31mType:\u001b[0m      function"
      ]
     },
     "metadata": {},
     "output_type": "display_data"
    }
   ],
   "source": [
    "describe_person?"
   ]
  },
  {
   "cell_type": "markdown",
   "metadata": {},
   "source": [
    "or"
   ]
  },
  {
   "cell_type": "code",
   "execution_count": 14,
   "metadata": {},
   "outputs": [
    {
     "name": "stdout",
     "output_type": "stream",
     "text": [
      "Help on function describe_person in module __main__:\n",
      "\n",
      "describe_person(name, age=23)\n",
      "    This function returns a message with a persons name and age.\n",
      "    \n",
      "    Parameters\n",
      "    ----------\n",
      "    name : str\n",
      "        A string with the name of the person.\n",
      "    age : int, optional\n",
      "        An integer with the person's age in years. Default: 23.\n",
      "        \n",
      "    Returns\n",
      "    -------\n",
      "    result : str\n",
      "        A string containing the message.\n",
      "\n"
     ]
    }
   ],
   "source": [
    "help(describe_person)"
   ]
  },
  {
   "cell_type": "markdown",
   "metadata": {},
   "source": [
    "In an IDE, typing the function name followed by the opening parenthesis genereally results in a window popping up with the docstring. In a workbook environment you can try the function name followed by the opening parenthesis and then hitting Shift + Tab (from experience this does not work in all cases, but give it a try in the code cell below)"
   ]
  },
  {
   "cell_type": "code",
   "execution_count": 15,
   "metadata": {},
   "outputs": [
    {
     "ename": "SyntaxError",
     "evalue": "incomplete input (4222750075.py, line 1)",
     "output_type": "error",
     "traceback": [
      "\u001b[1;36m  Cell \u001b[1;32mIn[15], line 1\u001b[1;36m\u001b[0m\n\u001b[1;33m    describe_person( # Place your cursor after the opening parenthesis and hit Shift + Tab to display the docstring\u001b[0m\n\u001b[1;37m                                                                                                                   ^\u001b[0m\n\u001b[1;31mSyntaxError\u001b[0m\u001b[1;31m:\u001b[0m incomplete input\n"
     ]
    }
   ],
   "source": [
    "describe_person( # Place your cursor after the opening parenthesis and hit Shift + Tab to display the docstring"
   ]
  },
  {
   "cell_type": "markdown",
   "metadata": {},
   "source": [
    "## Checking arguments\n",
    "\n",
    "The following function calculates the square of $x$ when $x <= 0$ and the square root of $x$ when $x > 0$ (not sure when you'd ever need this but it is just an example)"
   ]
  },
  {
   "cell_type": "code",
   "execution_count": 17,
   "metadata": {},
   "outputs": [],
   "source": [
    "import numpy as np\n",
    "\n",
    "def funky_function(x):\n",
    "    if x <= 0:\n",
    "        return x ** 2\n",
    "    else:\n",
    "        return np.sqrt(x)"
   ]
  },
  {
   "cell_type": "markdown",
   "metadata": {},
   "source": [
    "Printing the result for $x = -10$ and $x = 10$ demonstrates that it works"
   ]
  },
  {
   "cell_type": "code",
   "execution_count": 18,
   "metadata": {},
   "outputs": [
    {
     "name": "stdout",
     "output_type": "stream",
     "text": [
      "100\n",
      "3.1622776601683795\n"
     ]
    }
   ],
   "source": [
    "print(funky_function(-10))\n",
    "print(funky_function(10))"
   ]
  },
  {
   "cell_type": "markdown",
   "metadata": {},
   "source": [
    "But what if we pass an array to the function? This results in an error because of the `if` statement"
   ]
  },
  {
   "cell_type": "code",
   "execution_count": 19,
   "metadata": {},
   "outputs": [
    {
     "name": "stdout",
     "output_type": "stream",
     "text": [
      "[-10.   0.  10.]\n"
     ]
    },
    {
     "ename": "ValueError",
     "evalue": "The truth value of an array with more than one element is ambiguous. Use a.any() or a.all()",
     "output_type": "error",
     "traceback": [
      "\u001b[1;31m---------------------------------------------------------------------------\u001b[0m",
      "\u001b[1;31mValueError\u001b[0m                                Traceback (most recent call last)",
      "Cell \u001b[1;32mIn[19], line 3\u001b[0m\n\u001b[0;32m      1\u001b[0m x \u001b[38;5;241m=\u001b[39m np\u001b[38;5;241m.\u001b[39mlinspace(\u001b[38;5;241m-\u001b[39m\u001b[38;5;241m10\u001b[39m, \u001b[38;5;241m10\u001b[39m, \u001b[38;5;241m3\u001b[39m)\n\u001b[0;32m      2\u001b[0m \u001b[38;5;28mprint\u001b[39m(x)\n\u001b[1;32m----> 3\u001b[0m \u001b[43mfunky_function\u001b[49m\u001b[43m(\u001b[49m\u001b[43mx\u001b[49m\u001b[43m)\u001b[49m\n",
      "Cell \u001b[1;32mIn[17], line 4\u001b[0m, in \u001b[0;36mfunky_function\u001b[1;34m(x)\u001b[0m\n\u001b[0;32m      3\u001b[0m \u001b[38;5;28;01mdef\u001b[39;00m \u001b[38;5;21mfunky_function\u001b[39m(x):\n\u001b[1;32m----> 4\u001b[0m     \u001b[38;5;28;01mif\u001b[39;00m \u001b[43mx\u001b[49m\u001b[43m \u001b[49m\u001b[38;5;241;43m<\u001b[39;49m\u001b[38;5;241;43m=\u001b[39;49m\u001b[43m \u001b[49m\u001b[38;5;241;43m0\u001b[39;49m:\n\u001b[0;32m      5\u001b[0m         \u001b[38;5;28;01mreturn\u001b[39;00m x \u001b[38;5;241m*\u001b[39m\u001b[38;5;241m*\u001b[39m \u001b[38;5;241m2\u001b[39m\n\u001b[0;32m      6\u001b[0m     \u001b[38;5;28;01melse\u001b[39;00m:\n",
      "\u001b[1;31mValueError\u001b[0m: The truth value of an array with more than one element is ambiguous. Use a.any() or a.all()"
     ]
    }
   ],
   "source": [
    "x = np.linspace(-10, 10, 3)\n",
    "print(x)\n",
    "funky_function(x)"
   ]
  },
  {
   "cell_type": "markdown",
   "metadata": {},
   "source": [
    "To avoid such things from happening, it is important to add some code to your function that checks the type of x and rewrite the function in such a way that it will work both when `x` is a scalar and an array. There could be multiple ways to do this, for example"
   ]
  },
  {
   "cell_type": "code",
   "execution_count": 20,
   "metadata": {},
   "outputs": [],
   "source": [
    "def funky_function(x):\n",
    "    x = np.atleast_1d(x)\n",
    "    rv = np.empty_like(x)\n",
    "    idx = x <= 0\n",
    "    rv[idx] = x[idx] ** 2\n",
    "    rv[~idx] = np.sqrt(x[~idx])\n",
    "    \n",
    "    return rv"
   ]
  },
  {
   "cell_type": "markdown",
   "metadata": {},
   "source": [
    "Now let's try the code that did not work before"
   ]
  },
  {
   "cell_type": "code",
   "execution_count": 21,
   "metadata": {},
   "outputs": [
    {
     "data": {
      "text/plain": [
       "array([100.        ,   0.        ,   3.16227766])"
      ]
     },
     "execution_count": 21,
     "metadata": {},
     "output_type": "execute_result"
    }
   ],
   "source": [
    "x = np.linspace(-10, 10, 3)\n",
    "funky_function(x)"
   ]
  },
  {
   "cell_type": "markdown",
   "metadata": {},
   "source": [
    "and also try it with a scalar `x`"
   ]
  },
  {
   "cell_type": "code",
   "execution_count": 22,
   "metadata": {},
   "outputs": [
    {
     "data": {
      "text/plain": [
       "array([3])"
      ]
     },
     "execution_count": 22,
     "metadata": {},
     "output_type": "execute_result"
    }
   ],
   "source": [
    "funky_function(10)"
   ]
  },
  {
   "cell_type": "markdown",
   "metadata": {},
   "source": [
    "That worked! Or did it? Is the square root of 10 really 3? Well, almost but what happened here is that NumPy rounded the result of the `sqrt` function to the nearest whole number. Why would it do that, since it is clearly wrong?! The answer has to do with variable types. In this case we passed 10, which is an integer. The number got converted to an array with NumPy's `atleast_1d` function, from which the array with the return values was derived using the `empty_like` function. Because the function's input argument `x` was an integer, both arrays end up being integer arrays and the numbers they contain will remain integers, even when you assign a float to an element.\n",
    "\n",
    "This shows that writing functions can be very tricky and that you should always verify that their result is what you intended under the widest range of conceivable circumstances (there are in fact special techniques for this, which are known as unit testing). Now let's solve this issue by ensuring that `rv` is an array of floats, simply by adding `dtype=float` when we create it."
   ]
  },
  {
   "cell_type": "code",
   "execution_count": 23,
   "metadata": {},
   "outputs": [],
   "source": [
    "def funky_function(x):\n",
    "    x = np.atleast_1d(x)\n",
    "    rv = np.empty_like(x, dtype=float)\n",
    "    idx = x <= 0\n",
    "    rv[idx] = x[idx] ** 2\n",
    "    rv[~idx] = np.sqrt(x[~idx])\n",
    "    \n",
    "    return rv"
   ]
  },
  {
   "cell_type": "code",
   "execution_count": 24,
   "metadata": {},
   "outputs": [
    {
     "data": {
      "text/plain": [
       "array([3.16227766])"
      ]
     },
     "execution_count": 24,
     "metadata": {},
     "output_type": "execute_result"
    }
   ],
   "source": [
    "funky_function(10)"
   ]
  },
  {
   "cell_type": "markdown",
   "metadata": {},
   "source": [
    "Does this mean we are done now? Not quite. What if a user calls our function and accidentally passes a string variable rather than a number?"
   ]
  },
  {
   "cell_type": "code",
   "execution_count": 25,
   "metadata": {},
   "outputs": [
    {
     "ename": "TypeError",
     "evalue": "'<=' not supported between instances of 'numpy.ndarray' and 'int'",
     "output_type": "error",
     "traceback": [
      "\u001b[1;31m---------------------------------------------------------------------------\u001b[0m",
      "\u001b[1;31mTypeError\u001b[0m                                 Traceback (most recent call last)",
      "Cell \u001b[1;32mIn[25], line 1\u001b[0m\n\u001b[1;32m----> 1\u001b[0m \u001b[43mfunky_function\u001b[49m\u001b[43m(\u001b[49m\u001b[38;5;124;43m'\u001b[39;49m\u001b[38;5;124;43mten\u001b[39;49m\u001b[38;5;124;43m'\u001b[39;49m\u001b[43m)\u001b[49m\n",
      "Cell \u001b[1;32mIn[23], line 4\u001b[0m, in \u001b[0;36mfunky_function\u001b[1;34m(x)\u001b[0m\n\u001b[0;32m      2\u001b[0m x \u001b[38;5;241m=\u001b[39m np\u001b[38;5;241m.\u001b[39matleast_1d(x)\n\u001b[0;32m      3\u001b[0m rv \u001b[38;5;241m=\u001b[39m np\u001b[38;5;241m.\u001b[39mempty_like(x, dtype\u001b[38;5;241m=\u001b[39m\u001b[38;5;28mfloat\u001b[39m)\n\u001b[1;32m----> 4\u001b[0m idx \u001b[38;5;241m=\u001b[39m \u001b[43mx\u001b[49m\u001b[43m \u001b[49m\u001b[38;5;241;43m<\u001b[39;49m\u001b[38;5;241;43m=\u001b[39;49m\u001b[43m \u001b[49m\u001b[38;5;241;43m0\u001b[39;49m\n\u001b[0;32m      5\u001b[0m rv[idx] \u001b[38;5;241m=\u001b[39m x[idx] \u001b[38;5;241m*\u001b[39m\u001b[38;5;241m*\u001b[39m \u001b[38;5;241m2\u001b[39m\n\u001b[0;32m      6\u001b[0m rv[\u001b[38;5;241m~\u001b[39midx] \u001b[38;5;241m=\u001b[39m np\u001b[38;5;241m.\u001b[39msqrt(x[\u001b[38;5;241m~\u001b[39midx])\n",
      "\u001b[1;31mTypeError\u001b[0m: '<=' not supported between instances of 'numpy.ndarray' and 'int'"
     ]
    }
   ],
   "source": [
    "funky_function('ten')"
   ]
  },
  {
   "cell_type": "markdown",
   "metadata": {},
   "source": [
    "Obviously that didn't work. If this were a real function that was being used inside a `for` loop for example, the program would crash. As a programmer you have to think of ways to prevent such things from happening. One way would be to embed the code inside the function between `try` and `except` statements. The code under `try` gets executed but when an error occurs, Python jumps to the `except` part where you can specify what needs to happen in that case. In this example, it probably makes most sense to issue some sort of warning and return an empty return value, which is available in Python as `None'"
   ]
  },
  {
   "cell_type": "code",
   "execution_count": 26,
   "metadata": {},
   "outputs": [],
   "source": [
    "def funky_function(x):\n",
    "    try:\n",
    "        # The code lines below are the same as before\n",
    "        x = np.atleast_1d(x)\n",
    "        rv = np.empty_like(x, dtype=float)\n",
    "        idx = x <= 0\n",
    "        rv[idx] = x[idx] ** 2\n",
    "        rv[~idx] = np.sqrt(x[~idx])\n",
    "\n",
    "        return rv\n",
    "    except:\n",
    "        print(\"Warning: an error occurred. Check input argument.\")\n",
    "        return None"
   ]
  },
  {
   "cell_type": "markdown",
   "metadata": {},
   "source": [
    "Now let's try if it worked by embedding the function inside a `for` loop"
   ]
  },
  {
   "cell_type": "code",
   "execution_count": 27,
   "metadata": {},
   "outputs": [
    {
     "name": "stdout",
     "output_type": "stream",
     "text": [
      "[100.]\n",
      "[0.]\n",
      "[3.16227766]\n",
      "Warning: an error occurred. Check input argument.\n",
      "None\n"
     ]
    }
   ],
   "source": [
    "for x in [-10, 0, 10, 'ten']:\n",
    "    y = funky_function(x)\n",
    "    print(y)"
   ]
  },
  {
   "cell_type": "markdown",
   "metadata": {},
   "source": [
    "Finally, let's have a look at how we can set up the code within the for loop to ensure that our program does not crash when we try to add the first element of the array `y` to a list. Since we know that `funky_function` returns `None` when an error occurred, and an array otherwise, we can check for this condition, and only add the first element of `y` when `y` is not `None`."
   ]
  },
  {
   "cell_type": "code",
   "execution_count": 28,
   "metadata": {},
   "outputs": [
    {
     "name": "stdout",
     "output_type": "stream",
     "text": [
      "Warning: an error occurred. Check input argument.\n",
      "[100.0, 0.0, 3.1622776601683795]\n"
     ]
    }
   ],
   "source": [
    "meaningful_results = []\n",
    "for x in [-10, 0, 10, 'ten']:\n",
    "    y = funky_function(x)\n",
    "    if y is not None:\n",
    "        meaningful_results.append(y[0])\n",
    "\n",
    "print(meaningful_results)"
   ]
  },
  {
   "cell_type": "markdown",
   "metadata": {},
   "source": [
    "Checking for errors can be a lot of work and require lots and lots of lines of code. Nonetheless it should become an integral part of your coding as the potential for incorrect results is enormous."
   ]
  },
  {
   "cell_type": "markdown",
   "metadata": {},
   "source": [
    "## Classes\n",
    "\n",
    "In Python classes form the blueprint for the structure and behaviour of objects. A class has properties (also called attributes) and methods, as shown in the code cell below. The definition of a class starts (not surprisingly) with the word `class`, which is followed by its name (and a colon to end the code line). \n",
    "\n",
    "All code that defines the class is indented. In the example below, two functions are defined as part of the class (and therefore they should rather be called methods). The first one is `__init__`, which is the method that gets executed when an object gets initialized (more on that later). It can be seen that there are four arguments: `self`, `name`, `age` and `nationality`. The argument `self` is a bit of a special one. It occurs because the object needs to know about its own existence in the computer memory. A user doesn't have to worry about `self`, the argument gets passed to the function invisibly by Python, so as far as the user is concerned, there are really only three arguments for the function (`name`, `age` and `nationality`).\n",
    "\n",
    "Within the `__init__` method, the arguments are used to set the properties of the class. These are `_name`, `_age` and `_nationality`. Because the are preceded by `self`, we know that they are properties of the class. The leading underscore is there because there is a convention in Python that if a variable is not supposed to be modified by the user, its name receives a leading underscore. That is not to say that the user can't change it (there is nothing that prevents them from doing this) but at least they've been warned not to touch it, as otherwise unexpected behaviour might occur.\n",
    "\n",
    "The second method is a simple function that prints a message to the screen depending on the state (i.e. the values of the properties) of the object. Notice that the word `self` appears once more as an argument, simply because Python requires it because we are defining a class. In practice, the function gets called without any arguments, as will be demonstrated in the next code cell."
   ]
  },
  {
   "cell_type": "code",
   "execution_count": 29,
   "metadata": {},
   "outputs": [],
   "source": [
    "class Person:\n",
    "    def __init__(self, name, age, nationality):\n",
    "        self._name = name\n",
    "        self._age = age\n",
    "        self._nationality = nationality\n",
    "    \n",
    "    def introduce_yourself(self):\n",
    "        print(f\"Hello, my name is {self._name} and I am {self._age} years old.\")"
   ]
  },
  {
   "cell_type": "markdown",
   "metadata": {},
   "source": [
    "With the class `Person` now defined, we can create an instance of it. That means that we will initialize it as an object that has actual data. The resulting class instance is called `vincent` and the code looks like we're calling a function. In fact, we are because Python understands that it needs to call the `__init__` functions with the arguments that we pass in the parentheses behind `Person`. Once the class instance exists, its methods can be called, in this case we ask Vincent to introduce himself. Note that, as mentioned previously, there is no need to worry about that `self` argument, neither when initializing `Person`, nor when calling `introduce_yourself`."
   ]
  },
  {
   "cell_type": "code",
   "execution_count": 30,
   "metadata": {},
   "outputs": [
    {
     "name": "stdout",
     "output_type": "stream",
     "text": [
      "Hello, my name is Vincent and I am 29 years old.\n"
     ]
    }
   ],
   "source": [
    "vincent = Person(\"Vincent\", 29, \"Dutch\")\n",
    "vincent.introduce_yourself()"
   ]
  },
  {
   "cell_type": "markdown",
   "metadata": {},
   "source": [
    "Besides `__init__` there are a few other special class methods, for example `__str__`. This method can be defined to provide an elegant string representation of the class. The code cell below copies the class definition from before, but adds the `__str__` method. As can be seen, it returns a string with information about the class property values."
   ]
  },
  {
   "cell_type": "code",
   "execution_count": 31,
   "metadata": {},
   "outputs": [],
   "source": [
    "class Person:\n",
    "    def __init__(self, name, age, nationality):\n",
    "        self._name = name\n",
    "        self._age = age\n",
    "        self._nationality = nationality\n",
    "    \n",
    "    def introduce_yourself(self):\n",
    "        print(f\"Hello, my name is {self._name} and I am {self._age} years old.\")\n",
    "    \n",
    "    def __str__(self):\n",
    "        return f\"Name: {self._name}, age: {self._age}, nationality: {self._nationality}\""
   ]
  },
  {
   "cell_type": "markdown",
   "metadata": {},
   "source": [
    "Let's see what happens when we initialize `vincent` based on the new class definition and then combine it with a `print` statement"
   ]
  },
  {
   "cell_type": "code",
   "execution_count": 32,
   "metadata": {},
   "outputs": [
    {
     "name": "stdout",
     "output_type": "stream",
     "text": [
      "Name: Vincent, age: 29, nationality: Dutch\n"
     ]
    }
   ],
   "source": [
    "vincent = Person(\"Vincent\", 29, \"Dutch\")\n",
    "print(vincent)"
   ]
  },
  {
   "cell_type": "markdown",
   "metadata": {},
   "source": [
    "There can be as many instances of the class as we want, so we can define multiple instances, which all follow the blueprint of `Person`, but each have different properties."
   ]
  },
  {
   "cell_type": "code",
   "execution_count": 33,
   "metadata": {},
   "outputs": [],
   "source": [
    "# Define additional persons`\n",
    "onno = Person(\"Onno\", 23, \"Dutch\")\n",
    "michael = Person(\"Michael\", 23, \"Australian\")\n",
    "stacey = Person(\"Stacey\", 23, \"Australian\")"
   ]
  },
  {
   "cell_type": "markdown",
   "metadata": {},
   "source": [
    "This is useful when we also have a class that defines a course, which is defined in the code cell below. The `__init__` method for this class works a little different than before. No arguments are provided when `Course` is initialized. All the `__init__` method does is create two properties (`_attendees` and `_instructors`) which are empty lists. So directly after initialization, these lists are still empty, and they will only be populated when the class method `add_person` gets called. This method expects an instance of the `Person` class and takes a keyword argument `role`, which the user can provide to indicate if a person is an attendee or an instructor. Depending on the value of `role`, the `Person` instance will get added to either the list `_attendees` or `_instructors`.\n",
    "\n",
    "The method `list_persons` prints the attendees and the instructors to the screen, thereby making use of the fact that we added a `__str__` method to the `Person` class."
   ]
  },
  {
   "cell_type": "code",
   "execution_count": 34,
   "metadata": {},
   "outputs": [],
   "source": [
    "class Course:\n",
    "    def __init__(self):\n",
    "        self._attendees = []\n",
    "        self._instructors = []\n",
    "    \n",
    "    def add_person(self, person, role=\"attendee\"):\n",
    "        if role == \"attendee\":\n",
    "            self._attendees.append(person)\n",
    "        elif role == \"instructor\":\n",
    "            self._instructors.append(person)\n",
    "\n",
    "    def list_persons(self):\n",
    "        print(\"Attendees\")\n",
    "        for person in self._attendees:\n",
    "            print('\\t', person)\n",
    "        print(\"Instructors\")\n",
    "        for person in self._instructors:\n",
    "            print('\\t', person)"
   ]
  },
  {
   "cell_type": "markdown",
   "metadata": {},
   "source": [
    "We can now initialize `Course` and call the resulting object `PythonMasterclass`. Since we already defined multiple persons earlier, we can add them to the course and indicate their roles."
   ]
  },
  {
   "cell_type": "code",
   "execution_count": 35,
   "metadata": {},
   "outputs": [],
   "source": [
    "PythonMasterclass = Course()\n",
    "PythonMasterclass.add_person(michael)\n",
    "PythonMasterclass.add_person(stacey)\n",
    "PythonMasterclass.add_person(vincent, role=\"instructor\")\n",
    "PythonMasterclass.add_person(onno, role=\"instructor\")"
   ]
  },
  {
   "cell_type": "markdown",
   "metadata": {},
   "source": [
    "Now let's see who are in this course"
   ]
  },
  {
   "cell_type": "code",
   "execution_count": 36,
   "metadata": {},
   "outputs": [
    {
     "name": "stdout",
     "output_type": "stream",
     "text": [
      "Attendees\n",
      "\t Name: Michael, age: 23, nationality: Australian\n",
      "\t Name: Stacey, age: 23, nationality: Australian\n",
      "Instructors\n",
      "\t Name: Vincent, age: 29, nationality: Dutch\n",
      "\t Name: Onno, age: 23, nationality: Dutch\n"
     ]
    }
   ],
   "source": [
    "PythonMasterclass.list_persons()"
   ]
  },
  {
   "cell_type": "markdown",
   "metadata": {},
   "source": [
    "### Inheritance\n",
    "\n",
    "One of the strengths of object-oriented programming is that you can mould classes after other classes. This means that you can create a class with generic attributes and methods, and derive classes that inherit these but add specific properties and behaviour. Continuing with the course example above, we could have used the `Person` class to derive separate classes for attendees and instructors. They'd all be persons, but an attendee requires different attributes (for example, a record of their homework completions) than an instructor.\n",
    "\n",
    "A class that derives from another class is called a child class, and the original class is the parent. Let's define two new classes `Attendee` and `Instructor`, which derives from `Person`. For `Attendee` we add a new property which is a list that contains the session numbers for which the homework assignments were submitted. For `Instructor` we add a property that describes their expertise. \n",
    "\n",
    "Note that for `Attendee` the definition of the `__init__` method is identical to the `Person` class. Because the `Person` class used the function arguments to assign values to the class properties we must call that same method to make sure that this gets done. This is why the first line of code in the `__init__` method for `Attendee` uses the function `super()` to call the parent class' `__init__` method. The second line defines a new property `_homework_completed` for the `Attendee` class.\n",
    "\n",
    "For `Instructor` the `__init__` method accepts one additional argument `expertise`. The properties that are also in `Person` are set by calling `super().__init__`, the new `_expertise` property is set using the value of the `expertise` argument."
   ]
  },
  {
   "cell_type": "code",
   "execution_count": 38,
   "metadata": {},
   "outputs": [],
   "source": [
    "class Attendee(Person):\n",
    "    def __init__(self, name, age, nationality):\n",
    "        super().__init__(name, age, nationality)\n",
    "        self._homework_completed = []\n",
    "\n",
    "class Instructor(Person):\n",
    "    def __init__(self, name, age, nationality, expertise):\n",
    "        super().__init__(name, age, nationality)\n",
    "        self._expertise = expertise"
   ]
  },
  {
   "cell_type": "markdown",
   "metadata": {},
   "source": [
    "With these classes define, we can also change the way the `Course` class works. Rather than having to pass `role` as a keyword argument, we can let the method decide to which of the two lists, `_attendees` or `_instructors`, the person needs to be assigned. For this purpose, Python has the function `isinstance`, which checks if a variable is an instance of a certain class."
   ]
  },
  {
   "cell_type": "code",
   "execution_count": 48,
   "metadata": {},
   "outputs": [],
   "source": [
    "class Course:\n",
    "    def __init__(self):\n",
    "        self._attendees = []\n",
    "        self._instructors = []\n",
    "    \n",
    "    def add_person(self, person):\n",
    "        if isinstance(person, Attendee):\n",
    "            self._attendees.append(person)\n",
    "        elif isinstance(person, Instructor):\n",
    "            self._instructors.append(person)\n",
    "\n",
    "    def list_persons(self):\n",
    "        print(\"Attendees\")\n",
    "        for person in self._attendees:\n",
    "            print('\\t', person)\n",
    "        print(\"Instructors\")\n",
    "        for person in self._instructors:\n",
    "            print('\\t', person)"
   ]
  },
  {
   "cell_type": "markdown",
   "metadata": {},
   "source": [
    "The code cell below demonstrates how the new classes are used"
   ]
  },
  {
   "cell_type": "code",
   "execution_count": 49,
   "metadata": {},
   "outputs": [
    {
     "name": "stdout",
     "output_type": "stream",
     "text": [
      "Attendees\n",
      "\t Name: Michael, age: 23, nationality: Australian\n",
      "\t Name: Stacey, age: 23, nationality: Australian\n",
      "Instructors\n",
      "\t Name: Vincent, age: 29, nationality: Dutch\n",
      "\t Name: Onno, age: 23, nationality: Dutch\n"
     ]
    }
   ],
   "source": [
    "# Define the instructors\n",
    "vincent = Instructor(\"Vincent\", 29, \"Dutch\", [\"Python\", \"groundwater\"])\n",
    "onno = Instructor(\"Onno\", 23, \"Dutch\", [\"Python\", \"groundwater\"])\n",
    "# Define the attendees\n",
    "michael = Attendee(\"Michael\", 23, \"Australian\")\n",
    "stacey = Attendee(\"Stacey\", 23, \"Australian\")\n",
    "\n",
    "# Initialize an instance of Course\n",
    "PythonMasterclass = Course()\n",
    "\n",
    "# Add the instructors and the attendees\n",
    "PythonMasterclass.add_person(vincent)\n",
    "PythonMasterclass.add_person(onno)\n",
    "PythonMasterclass.add_person(michael)\n",
    "PythonMasterclass.add_person(stacey)\n",
    "\n",
    "# List everyone in the class\n",
    "PythonMasterclass.list_persons()"
   ]
  },
  {
   "cell_type": "markdown",
   "metadata": {},
   "source": [
    "***Exercise 2***: Add a check to the `add_person` method that prevents instructors who don't have any Python expertise from being added to the course.\n",
    "\n",
    "*Hint*: You can check if the word 'Python' occurs in the `_expertise` property (which is a list ) of the `Instructor` class instance with the following code: `'Python' in 'person._expertise'`"
   ]
  },
  {
   "cell_type": "code",
   "execution_count": 55,
   "metadata": {},
   "outputs": [],
   "source": [
    "class Course:\n",
    "    def __init__(self):\n",
    "        self._attendees = []\n",
    "        self._instructors = []\n",
    "    \n",
    "    def add_person(self, person):\n",
    "        if isinstance(person, Attendee):\n",
    "            self._attendees.append(person)\n",
    "        elif isinstance(person, Instructor):\n",
    "            self._instructors.append(person)\n",
    "\n",
    "    # Note that the list_persons method was omitted for brevity"
   ]
  },
  {
   "cell_type": "code",
   "execution_count": 56,
   "metadata": {},
   "outputs": [
    {
     "name": "stdout",
     "output_type": "stream",
     "text": [
      "Instructor Henry is not qualified to teach Python.\n"
     ]
    }
   ],
   "source": [
    "# Answer (delete before distributing)\n",
    "class Course:\n",
    "    def __init__(self):\n",
    "        self._attendees = []\n",
    "        self._instructors = []\n",
    "    \n",
    "    def add_person(self, person):\n",
    "        if isinstance(person, Attendee):\n",
    "            self._attendees.append(person)\n",
    "        elif isinstance(person, Instructor):\n",
    "            if 'Python' in person._expertise:\n",
    "                self._instructors.append(person)\n",
    "            else:\n",
    "                print(f\"Instructor {person._name} is not qualified to teach Python.\")\n",
    "\n",
    "    # Note that the list_persons method was omitted for brevity\n",
    "\n",
    "darcy = Instructor(\"Henry\", 175, \"Frech\", [\"groundwater\"])\n",
    "PythonMasterclass = Course()\n",
    "PythonMasterclass.add_person(darcy)"
   ]
  },
  {
   "cell_type": "markdown",
   "metadata": {},
   "source": [
    "***Exercise 3***: We can only add a single person each time, which gets a little annoying when there are many people in the course. Modify the definition of the `add_person` method in the code cell below to add multiple persons at the same time. \n",
    "\n",
    "*Hint*: You can pass a `list` as a function argument."
   ]
  },
  {
   "cell_type": "code",
   "execution_count": 48,
   "metadata": {},
   "outputs": [],
   "source": [
    "class Course:\n",
    "    def __init__(self):\n",
    "        self._attendees = []\n",
    "        self._instructors = []\n",
    "    \n",
    "    def add_person(self, person):\n",
    "        if isinstance(person, Attendee):\n",
    "            self._attendees.append(person)\n",
    "        elif isinstance(person, Instructor):\n",
    "            self._instructors.append(person)\n",
    "\n",
    "    def list_persons(self):\n",
    "        print(\"Attendees\")\n",
    "        for person in self._attendees:\n",
    "            print('\\t', person)\n",
    "        print(\"Instructors\")\n",
    "        for person in self._instructors:\n",
    "            print('\\t', person)"
   ]
  },
  {
   "cell_type": "code",
   "execution_count": 63,
   "metadata": {},
   "outputs": [
    {
     "name": "stdout",
     "output_type": "stream",
     "text": [
      "Attendees\n",
      "\t Name: Stacey, age: 23, nationality: Australian\n",
      "\t Name: Michael, age: 23, nationality: Australian\n",
      "Instructors\n",
      "\t Name: Vincent, age: 29, nationality: Dutch\n",
      "\t Name: Onno, age: 23, nationality: Dutch\n"
     ]
    }
   ],
   "source": [
    "# Answer (delete before distributing)\n",
    "class Course:\n",
    "    def __init__(self):\n",
    "        self._attendees = []\n",
    "        self._instructors = []\n",
    "    \n",
    "    def add_persons(self, persons):\n",
    "        for person in persons:\n",
    "            if isinstance(person, Attendee):\n",
    "                self._attendees.append(person)\n",
    "            elif isinstance(person, Instructor):\n",
    "                self._instructors.append(person)\n",
    "\n",
    "    def list_persons(self):\n",
    "        print(\"Attendees\")\n",
    "        for person in self._attendees:\n",
    "            print('\\t', person)\n",
    "        print(\"Instructors\")\n",
    "        for person in self._instructors:\n",
    "            print('\\t', person)\n",
    "            \n",
    "PythonMasterclass = Course()\n",
    "PythonMasterclass.add_persons([vincent, onno, stacey, michael])\n",
    "PythonMasterclass.list_persons()"
   ]
  },
  {
   "cell_type": "code",
   "execution_count": 59,
   "metadata": {},
   "outputs": [],
   "source": [
    "# Raise a TypeError\n"
   ]
  }
 ],
 "metadata": {
  "kernelspec": {
   "display_name": "Python 3",
   "language": "python",
   "name": "python3"
  },
  "language_info": {
   "codemirror_mode": {
    "name": "ipython",
    "version": 3
   },
   "file_extension": ".py",
   "mimetype": "text/x-python",
   "name": "python",
   "nbconvert_exporter": "python",
   "pygments_lexer": "ipython3",
   "version": "3.10.9"
  }
 },
 "nbformat": 4,
 "nbformat_minor": 4
}
